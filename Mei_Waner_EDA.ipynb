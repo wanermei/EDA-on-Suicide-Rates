{
  "nbformat": 4,
  "nbformat_minor": 0,
  "metadata": {
    "kernelspec": {
      "display_name": "Python 3",
      "language": "python",
      "name": "python3"
    },
    "colab": {
      "name": "Mei_Waner_EDA.ipynb",
      "provenance": [],
      "collapsed_sections": [],
      "include_colab_link": true
    }
  },
  "cells": [
    {
      "cell_type": "markdown",
      "metadata": {
        "id": "view-in-github",
        "colab_type": "text"
      },
      "source": [
        "<a href=\"https://colab.research.google.com/github/wanermelon/EDA-on-Suicide-Rates/blob/main/Mei_Waner_EDA.ipynb\" target=\"_parent\"><img src=\"https://colab.research.google.com/assets/colab-badge.svg\" alt=\"Open In Colab\"/></a>"
      ]
    },
    {
      "cell_type": "markdown",
      "metadata": {
        "id": "CEpspq57cdRV"
      },
      "source": [
        "EDA blog post on medium\n",
        "\n",
        "https://medium.com/@wmei/exploratory-data-analysis-eda-in-python-on-suicide-rates-33da65855add\n",
        "\n",
        "Dataset can be found in the github repo - \n",
        "\n",
        "https://github.com/wanermelon/EDA-on-Suicide-Rates\n"
      ]
    },
    {
      "cell_type": "code",
      "metadata": {
        "id": "tu3cJpNIcOiF"
      },
      "source": [
        "# Importing required libraries\n",
        "import pandas as pd\n",
        "import numpy as np\n",
        "import seaborn as sn\n",
        "import matplotlib as mpl\n",
        "import matplotlib.pyplot as plt\n",
        "import warnings\n",
        "warnings.filterwarnings('ignore')"
      ],
      "execution_count": 1,
      "outputs": []
    },
    {
      "cell_type": "code",
      "metadata": {
        "id": "HxH6BDevgUoF"
      },
      "source": [
        "url = \"https://raw.githubusercontent.com/wanermelon/EDA-on-Suicide-Rates/main/master.csv\"\r\n",
        "Suicide_rate = pd.read_csv(url)\r\n",
        "# Dataset is now stored in a Pandas Dataframe and defined as Suicide_rate"
      ],
      "execution_count": 2,
      "outputs": []
    },
    {
      "cell_type": "code",
      "metadata": {
        "colab": {
          "base_uri": "https://localhost:8080/",
          "height": 191
        },
        "id": "BlV_I6WER2_E",
        "outputId": "f0c647df-efd4-466d-e40d-d38cda80dcae"
      },
      "source": [
        "# Top 5 obs\r\n",
        "Suicide_rate.head()"
      ],
      "execution_count": 3,
      "outputs": [
        {
          "output_type": "execute_result",
          "data": {
            "text/html": [
              "<div>\n",
              "<style scoped>\n",
              "    .dataframe tbody tr th:only-of-type {\n",
              "        vertical-align: middle;\n",
              "    }\n",
              "\n",
              "    .dataframe tbody tr th {\n",
              "        vertical-align: top;\n",
              "    }\n",
              "\n",
              "    .dataframe thead th {\n",
              "        text-align: right;\n",
              "    }\n",
              "</style>\n",
              "<table border=\"1\" class=\"dataframe\">\n",
              "  <thead>\n",
              "    <tr style=\"text-align: right;\">\n",
              "      <th></th>\n",
              "      <th>country</th>\n",
              "      <th>year</th>\n",
              "      <th>sex</th>\n",
              "      <th>age</th>\n",
              "      <th>suicides_no</th>\n",
              "      <th>population</th>\n",
              "      <th>suicides/100k pop</th>\n",
              "      <th>country-year</th>\n",
              "      <th>HDI for year</th>\n",
              "      <th>gdp_for_year ($)</th>\n",
              "      <th>gdp_per_capita ($)</th>\n",
              "      <th>generation</th>\n",
              "    </tr>\n",
              "  </thead>\n",
              "  <tbody>\n",
              "    <tr>\n",
              "      <th>0</th>\n",
              "      <td>Albania</td>\n",
              "      <td>1987</td>\n",
              "      <td>male</td>\n",
              "      <td>15-24 years</td>\n",
              "      <td>21</td>\n",
              "      <td>312900</td>\n",
              "      <td>6.71</td>\n",
              "      <td>Albania1987</td>\n",
              "      <td>NaN</td>\n",
              "      <td>2,156,624,900</td>\n",
              "      <td>796</td>\n",
              "      <td>Generation X</td>\n",
              "    </tr>\n",
              "    <tr>\n",
              "      <th>1</th>\n",
              "      <td>Albania</td>\n",
              "      <td>1987</td>\n",
              "      <td>male</td>\n",
              "      <td>35-54 years</td>\n",
              "      <td>16</td>\n",
              "      <td>308000</td>\n",
              "      <td>5.19</td>\n",
              "      <td>Albania1987</td>\n",
              "      <td>NaN</td>\n",
              "      <td>2,156,624,900</td>\n",
              "      <td>796</td>\n",
              "      <td>Silent</td>\n",
              "    </tr>\n",
              "    <tr>\n",
              "      <th>2</th>\n",
              "      <td>Albania</td>\n",
              "      <td>1987</td>\n",
              "      <td>female</td>\n",
              "      <td>15-24 years</td>\n",
              "      <td>14</td>\n",
              "      <td>289700</td>\n",
              "      <td>4.83</td>\n",
              "      <td>Albania1987</td>\n",
              "      <td>NaN</td>\n",
              "      <td>2,156,624,900</td>\n",
              "      <td>796</td>\n",
              "      <td>Generation X</td>\n",
              "    </tr>\n",
              "    <tr>\n",
              "      <th>3</th>\n",
              "      <td>Albania</td>\n",
              "      <td>1987</td>\n",
              "      <td>male</td>\n",
              "      <td>75+ years</td>\n",
              "      <td>1</td>\n",
              "      <td>21800</td>\n",
              "      <td>4.59</td>\n",
              "      <td>Albania1987</td>\n",
              "      <td>NaN</td>\n",
              "      <td>2,156,624,900</td>\n",
              "      <td>796</td>\n",
              "      <td>G.I. Generation</td>\n",
              "    </tr>\n",
              "    <tr>\n",
              "      <th>4</th>\n",
              "      <td>Albania</td>\n",
              "      <td>1987</td>\n",
              "      <td>male</td>\n",
              "      <td>25-34 years</td>\n",
              "      <td>9</td>\n",
              "      <td>274300</td>\n",
              "      <td>3.28</td>\n",
              "      <td>Albania1987</td>\n",
              "      <td>NaN</td>\n",
              "      <td>2,156,624,900</td>\n",
              "      <td>796</td>\n",
              "      <td>Boomers</td>\n",
              "    </tr>\n",
              "  </tbody>\n",
              "</table>\n",
              "</div>"
            ],
            "text/plain": [
              "   country  year  ... gdp_per_capita ($)       generation\n",
              "0  Albania  1987  ...                796     Generation X\n",
              "1  Albania  1987  ...                796           Silent\n",
              "2  Albania  1987  ...                796     Generation X\n",
              "3  Albania  1987  ...                796  G.I. Generation\n",
              "4  Albania  1987  ...                796          Boomers\n",
              "\n",
              "[5 rows x 12 columns]"
            ]
          },
          "metadata": {
            "tags": []
          },
          "execution_count": 3
        }
      ]
    },
    {
      "cell_type": "code",
      "metadata": {
        "colab": {
          "base_uri": "https://localhost:8080/"
        },
        "id": "miarHFhRcOiK",
        "outputId": "baac9853-dcd1-41d7-b4df-b87c30db3869"
      },
      "source": [
        "# Checking the info/property of the dataset\r\n",
        "Suicide_rate.info()"
      ],
      "execution_count": 4,
      "outputs": [
        {
          "output_type": "stream",
          "text": [
            "<class 'pandas.core.frame.DataFrame'>\n",
            "RangeIndex: 27820 entries, 0 to 27819\n",
            "Data columns (total 12 columns):\n",
            " #   Column              Non-Null Count  Dtype  \n",
            "---  ------              --------------  -----  \n",
            " 0   country             27820 non-null  object \n",
            " 1   year                27820 non-null  int64  \n",
            " 2   sex                 27820 non-null  object \n",
            " 3   age                 27820 non-null  object \n",
            " 4   suicides_no         27820 non-null  int64  \n",
            " 5   population          27820 non-null  int64  \n",
            " 6   suicides/100k pop   27820 non-null  float64\n",
            " 7   country-year        27820 non-null  object \n",
            " 8   HDI for year        8364 non-null   float64\n",
            " 9    gdp_for_year ($)   27820 non-null  object \n",
            " 10  gdp_per_capita ($)  27820 non-null  int64  \n",
            " 11  generation          27820 non-null  object \n",
            "dtypes: float64(2), int64(4), object(6)\n",
            "memory usage: 2.5+ MB\n"
          ],
          "name": "stdout"
        }
      ]
    },
    {
      "cell_type": "code",
      "metadata": {
        "colab": {
          "base_uri": "https://localhost:8080/"
        },
        "id": "r4Q3n2E_qeYU",
        "outputId": "04f9b945-4b32-4df2-b063-e2771d3d8f45"
      },
      "source": [
        "# Check names for columns \r\n",
        "Suicide_rate.columns"
      ],
      "execution_count": 5,
      "outputs": [
        {
          "output_type": "execute_result",
          "data": {
            "text/plain": [
              "Index(['country', 'year', 'sex', 'age', 'suicides_no', 'population',\n",
              "       'suicides/100k pop', 'country-year', 'HDI for year',\n",
              "       ' gdp_for_year ($) ', 'gdp_per_capita ($)', 'generation'],\n",
              "      dtype='object')"
            ]
          },
          "metadata": {
            "tags": []
          },
          "execution_count": 5
        }
      ]
    },
    {
      "cell_type": "code",
      "metadata": {
        "id": "2hn7XLC6qHNQ"
      },
      "source": [
        "# Delete hidden spaces in column names\r\n",
        "Suicide_rate = Suicide_rate.rename(columns={' gdp_for_year ($) ': 'gdp_for_year'})\r\n",
        "Suicide_rate = Suicide_rate.rename(columns={'gdp_per_capita ($)': 'gdp_per_capita'})"
      ],
      "execution_count": 6,
      "outputs": []
    },
    {
      "cell_type": "code",
      "metadata": {
        "id": "8iurjsImj9zL"
      },
      "source": [
        "# Drop columns that's unnecessary for this EDA\r\n",
        "Suicide_rate = Suicide_rate.drop([\"country-year\", \"HDI for year\",\"gdp_for_year\"], axis=1)"
      ],
      "execution_count": 7,
      "outputs": []
    },
    {
      "cell_type": "code",
      "metadata": {
        "id": "hvUECT4HfS6l"
      },
      "source": [
        "# Drop duplicate\r\n",
        "Suicide_rate = Suicide_rate.drop_duplicates(keep='first')"
      ],
      "execution_count": 8,
      "outputs": []
    },
    {
      "cell_type": "code",
      "metadata": {
        "colab": {
          "base_uri": "https://localhost:8080/",
          "height": 391
        },
        "id": "6bsywm2IpN8y",
        "outputId": "238e35fe-fe82-408e-c827-0e69fd736a22"
      },
      "source": [
        "# Drop missing\r\n",
        "Suicide_rate.dropna()"
      ],
      "execution_count": 9,
      "outputs": [
        {
          "output_type": "execute_result",
          "data": {
            "text/html": [
              "<div>\n",
              "<style scoped>\n",
              "    .dataframe tbody tr th:only-of-type {\n",
              "        vertical-align: middle;\n",
              "    }\n",
              "\n",
              "    .dataframe tbody tr th {\n",
              "        vertical-align: top;\n",
              "    }\n",
              "\n",
              "    .dataframe thead th {\n",
              "        text-align: right;\n",
              "    }\n",
              "</style>\n",
              "<table border=\"1\" class=\"dataframe\">\n",
              "  <thead>\n",
              "    <tr style=\"text-align: right;\">\n",
              "      <th></th>\n",
              "      <th>country</th>\n",
              "      <th>year</th>\n",
              "      <th>sex</th>\n",
              "      <th>age</th>\n",
              "      <th>suicides_no</th>\n",
              "      <th>population</th>\n",
              "      <th>suicides/100k pop</th>\n",
              "      <th>gdp_per_capita</th>\n",
              "      <th>generation</th>\n",
              "    </tr>\n",
              "  </thead>\n",
              "  <tbody>\n",
              "    <tr>\n",
              "      <th>0</th>\n",
              "      <td>Albania</td>\n",
              "      <td>1987</td>\n",
              "      <td>male</td>\n",
              "      <td>15-24 years</td>\n",
              "      <td>21</td>\n",
              "      <td>312900</td>\n",
              "      <td>6.71</td>\n",
              "      <td>796</td>\n",
              "      <td>Generation X</td>\n",
              "    </tr>\n",
              "    <tr>\n",
              "      <th>1</th>\n",
              "      <td>Albania</td>\n",
              "      <td>1987</td>\n",
              "      <td>male</td>\n",
              "      <td>35-54 years</td>\n",
              "      <td>16</td>\n",
              "      <td>308000</td>\n",
              "      <td>5.19</td>\n",
              "      <td>796</td>\n",
              "      <td>Silent</td>\n",
              "    </tr>\n",
              "    <tr>\n",
              "      <th>2</th>\n",
              "      <td>Albania</td>\n",
              "      <td>1987</td>\n",
              "      <td>female</td>\n",
              "      <td>15-24 years</td>\n",
              "      <td>14</td>\n",
              "      <td>289700</td>\n",
              "      <td>4.83</td>\n",
              "      <td>796</td>\n",
              "      <td>Generation X</td>\n",
              "    </tr>\n",
              "    <tr>\n",
              "      <th>3</th>\n",
              "      <td>Albania</td>\n",
              "      <td>1987</td>\n",
              "      <td>male</td>\n",
              "      <td>75+ years</td>\n",
              "      <td>1</td>\n",
              "      <td>21800</td>\n",
              "      <td>4.59</td>\n",
              "      <td>796</td>\n",
              "      <td>G.I. Generation</td>\n",
              "    </tr>\n",
              "    <tr>\n",
              "      <th>4</th>\n",
              "      <td>Albania</td>\n",
              "      <td>1987</td>\n",
              "      <td>male</td>\n",
              "      <td>25-34 years</td>\n",
              "      <td>9</td>\n",
              "      <td>274300</td>\n",
              "      <td>3.28</td>\n",
              "      <td>796</td>\n",
              "      <td>Boomers</td>\n",
              "    </tr>\n",
              "    <tr>\n",
              "      <th>...</th>\n",
              "      <td>...</td>\n",
              "      <td>...</td>\n",
              "      <td>...</td>\n",
              "      <td>...</td>\n",
              "      <td>...</td>\n",
              "      <td>...</td>\n",
              "      <td>...</td>\n",
              "      <td>...</td>\n",
              "      <td>...</td>\n",
              "    </tr>\n",
              "    <tr>\n",
              "      <th>27815</th>\n",
              "      <td>Uzbekistan</td>\n",
              "      <td>2014</td>\n",
              "      <td>female</td>\n",
              "      <td>35-54 years</td>\n",
              "      <td>107</td>\n",
              "      <td>3620833</td>\n",
              "      <td>2.96</td>\n",
              "      <td>2309</td>\n",
              "      <td>Generation X</td>\n",
              "    </tr>\n",
              "    <tr>\n",
              "      <th>27816</th>\n",
              "      <td>Uzbekistan</td>\n",
              "      <td>2014</td>\n",
              "      <td>female</td>\n",
              "      <td>75+ years</td>\n",
              "      <td>9</td>\n",
              "      <td>348465</td>\n",
              "      <td>2.58</td>\n",
              "      <td>2309</td>\n",
              "      <td>Silent</td>\n",
              "    </tr>\n",
              "    <tr>\n",
              "      <th>27817</th>\n",
              "      <td>Uzbekistan</td>\n",
              "      <td>2014</td>\n",
              "      <td>male</td>\n",
              "      <td>5-14 years</td>\n",
              "      <td>60</td>\n",
              "      <td>2762158</td>\n",
              "      <td>2.17</td>\n",
              "      <td>2309</td>\n",
              "      <td>Generation Z</td>\n",
              "    </tr>\n",
              "    <tr>\n",
              "      <th>27818</th>\n",
              "      <td>Uzbekistan</td>\n",
              "      <td>2014</td>\n",
              "      <td>female</td>\n",
              "      <td>5-14 years</td>\n",
              "      <td>44</td>\n",
              "      <td>2631600</td>\n",
              "      <td>1.67</td>\n",
              "      <td>2309</td>\n",
              "      <td>Generation Z</td>\n",
              "    </tr>\n",
              "    <tr>\n",
              "      <th>27819</th>\n",
              "      <td>Uzbekistan</td>\n",
              "      <td>2014</td>\n",
              "      <td>female</td>\n",
              "      <td>55-74 years</td>\n",
              "      <td>21</td>\n",
              "      <td>1438935</td>\n",
              "      <td>1.46</td>\n",
              "      <td>2309</td>\n",
              "      <td>Boomers</td>\n",
              "    </tr>\n",
              "  </tbody>\n",
              "</table>\n",
              "<p>27820 rows × 9 columns</p>\n",
              "</div>"
            ],
            "text/plain": [
              "          country  year  ... gdp_per_capita       generation\n",
              "0         Albania  1987  ...            796     Generation X\n",
              "1         Albania  1987  ...            796           Silent\n",
              "2         Albania  1987  ...            796     Generation X\n",
              "3         Albania  1987  ...            796  G.I. Generation\n",
              "4         Albania  1987  ...            796          Boomers\n",
              "...           ...   ...  ...            ...              ...\n",
              "27815  Uzbekistan  2014  ...           2309     Generation X\n",
              "27816  Uzbekistan  2014  ...           2309           Silent\n",
              "27817  Uzbekistan  2014  ...           2309     Generation Z\n",
              "27818  Uzbekistan  2014  ...           2309     Generation Z\n",
              "27819  Uzbekistan  2014  ...           2309          Boomers\n",
              "\n",
              "[27820 rows x 9 columns]"
            ]
          },
          "metadata": {
            "tags": []
          },
          "execution_count": 9
        }
      ]
    },
    {
      "cell_type": "code",
      "metadata": {
        "colab": {
          "base_uri": "https://localhost:8080/"
        },
        "id": "GZVrIWWUrDKr",
        "outputId": "55d2dfc2-60a6-4e57-b528-41f0c703d97d"
      },
      "source": [
        "# Checking the new info/property of the dataset\r\n",
        "Suicide_rate.info()"
      ],
      "execution_count": 10,
      "outputs": [
        {
          "output_type": "stream",
          "text": [
            "<class 'pandas.core.frame.DataFrame'>\n",
            "Int64Index: 27820 entries, 0 to 27819\n",
            "Data columns (total 9 columns):\n",
            " #   Column             Non-Null Count  Dtype  \n",
            "---  ------             --------------  -----  \n",
            " 0   country            27820 non-null  object \n",
            " 1   year               27820 non-null  int64  \n",
            " 2   sex                27820 non-null  object \n",
            " 3   age                27820 non-null  object \n",
            " 4   suicides_no        27820 non-null  int64  \n",
            " 5   population         27820 non-null  int64  \n",
            " 6   suicides/100k pop  27820 non-null  float64\n",
            " 7   gdp_per_capita     27820 non-null  int64  \n",
            " 8   generation         27820 non-null  object \n",
            "dtypes: float64(1), int64(4), object(4)\n",
            "memory usage: 2.1+ MB\n"
          ],
          "name": "stdout"
        }
      ]
    },
    {
      "cell_type": "code",
      "metadata": {
        "colab": {
          "base_uri": "https://localhost:8080/"
        },
        "id": "31pYGmadcOiL",
        "outputId": "169b4de2-aa87-46cc-cd52-0c3db09a3297"
      },
      "source": [
        "# Find the unique values to make categorical variable\n",
        "print('Country and States in United States')\n",
        "print(\", \".join(list(Suicide_rate.country.unique())))\n",
        "print('Years')\n",
        "print(*list(Suicide_rate.year.unique()))\n",
        "print('Sex')\n",
        "print(*list(Suicide_rate.sex.unique()))\n",
        "print('Generation')\n",
        "print(\", \".join(list(Suicide_rate.generation.unique())))\n"
      ],
      "execution_count": 11,
      "outputs": [
        {
          "output_type": "stream",
          "text": [
            "Country and States in United States\n",
            "Albania, Antigua and Barbuda, Argentina, Armenia, Aruba, Australia, Austria, Azerbaijan, Bahamas, Bahrain, Barbados, Belarus, Belgium, Belize, Bosnia and Herzegovina, Brazil, Bulgaria, Cabo Verde, Canada, Chile, Colombia, Costa Rica, Croatia, Cuba, Cyprus, Czech Republic, Denmark, Dominica, Ecuador, El Salvador, Estonia, Fiji, Finland, France, Georgia, Germany, Greece, Grenada, Guatemala, Guyana, Hungary, Iceland, Ireland, Israel, Italy, Jamaica, Japan, Kazakhstan, Kiribati, Kuwait, Kyrgyzstan, Latvia, Lithuania, Luxembourg, Macau, Maldives, Malta, Mauritius, Mexico, Mongolia, Montenegro, Netherlands, New Zealand, Nicaragua, Norway, Oman, Panama, Paraguay, Philippines, Poland, Portugal, Puerto Rico, Qatar, Republic of Korea, Romania, Russian Federation, Saint Kitts and Nevis, Saint Lucia, Saint Vincent and Grenadines, San Marino, Serbia, Seychelles, Singapore, Slovakia, Slovenia, South Africa, Spain, Sri Lanka, Suriname, Sweden, Switzerland, Thailand, Trinidad and Tobago, Turkey, Turkmenistan, Ukraine, United Arab Emirates, United Kingdom, United States, Uruguay, Uzbekistan\n",
            "Years\n",
            "1987 1988 1989 1992 1993 1994 1995 1996 1997 1998 1999 2000 2001 2002 2003 2004 2005 2006 2007 2008 2009 2010 1985 1986 1990 1991 2012 2013 2014 2015 2011 2016\n",
            "Sex\n",
            "male female\n",
            "Generation\n",
            "Generation X, Silent, G.I. Generation, Boomers, Millenials, Generation Z\n"
          ],
          "name": "stdout"
        }
      ]
    },
    {
      "cell_type": "code",
      "metadata": {
        "colab": {
          "base_uri": "https://localhost:8080/",
          "height": 191
        },
        "id": "Oe84Dl8EcOiO",
        "outputId": "0746f6cf-cfd3-4810-953f-11ac1f786a71"
      },
      "source": [
        "# Only display numeric cloumns\n",
        "Suicide_rate.describe().T"
      ],
      "execution_count": 12,
      "outputs": [
        {
          "output_type": "execute_result",
          "data": {
            "text/html": [
              "<div>\n",
              "<style scoped>\n",
              "    .dataframe tbody tr th:only-of-type {\n",
              "        vertical-align: middle;\n",
              "    }\n",
              "\n",
              "    .dataframe tbody tr th {\n",
              "        vertical-align: top;\n",
              "    }\n",
              "\n",
              "    .dataframe thead th {\n",
              "        text-align: right;\n",
              "    }\n",
              "</style>\n",
              "<table border=\"1\" class=\"dataframe\">\n",
              "  <thead>\n",
              "    <tr style=\"text-align: right;\">\n",
              "      <th></th>\n",
              "      <th>count</th>\n",
              "      <th>mean</th>\n",
              "      <th>std</th>\n",
              "      <th>min</th>\n",
              "      <th>25%</th>\n",
              "      <th>50%</th>\n",
              "      <th>75%</th>\n",
              "      <th>max</th>\n",
              "    </tr>\n",
              "  </thead>\n",
              "  <tbody>\n",
              "    <tr>\n",
              "      <th>year</th>\n",
              "      <td>27820.0</td>\n",
              "      <td>2.001258e+03</td>\n",
              "      <td>8.469055e+00</td>\n",
              "      <td>1985.0</td>\n",
              "      <td>1995.00</td>\n",
              "      <td>2002.00</td>\n",
              "      <td>2008.00</td>\n",
              "      <td>2016.00</td>\n",
              "    </tr>\n",
              "    <tr>\n",
              "      <th>suicides_no</th>\n",
              "      <td>27820.0</td>\n",
              "      <td>2.425744e+02</td>\n",
              "      <td>9.020479e+02</td>\n",
              "      <td>0.0</td>\n",
              "      <td>3.00</td>\n",
              "      <td>25.00</td>\n",
              "      <td>131.00</td>\n",
              "      <td>22338.00</td>\n",
              "    </tr>\n",
              "    <tr>\n",
              "      <th>population</th>\n",
              "      <td>27820.0</td>\n",
              "      <td>1.844794e+06</td>\n",
              "      <td>3.911779e+06</td>\n",
              "      <td>278.0</td>\n",
              "      <td>97498.50</td>\n",
              "      <td>430150.00</td>\n",
              "      <td>1486143.25</td>\n",
              "      <td>43805214.00</td>\n",
              "    </tr>\n",
              "    <tr>\n",
              "      <th>suicides/100k pop</th>\n",
              "      <td>27820.0</td>\n",
              "      <td>1.281610e+01</td>\n",
              "      <td>1.896151e+01</td>\n",
              "      <td>0.0</td>\n",
              "      <td>0.92</td>\n",
              "      <td>5.99</td>\n",
              "      <td>16.62</td>\n",
              "      <td>224.97</td>\n",
              "    </tr>\n",
              "    <tr>\n",
              "      <th>gdp_per_capita</th>\n",
              "      <td>27820.0</td>\n",
              "      <td>1.686646e+04</td>\n",
              "      <td>1.888758e+04</td>\n",
              "      <td>251.0</td>\n",
              "      <td>3447.00</td>\n",
              "      <td>9372.00</td>\n",
              "      <td>24874.00</td>\n",
              "      <td>126352.00</td>\n",
              "    </tr>\n",
              "  </tbody>\n",
              "</table>\n",
              "</div>"
            ],
            "text/plain": [
              "                     count          mean  ...         75%          max\n",
              "year               27820.0  2.001258e+03  ...     2008.00      2016.00\n",
              "suicides_no        27820.0  2.425744e+02  ...      131.00     22338.00\n",
              "population         27820.0  1.844794e+06  ...  1486143.25  43805214.00\n",
              "suicides/100k pop  27820.0  1.281610e+01  ...       16.62       224.97\n",
              "gdp_per_capita     27820.0  1.686646e+04  ...    24874.00    126352.00\n",
              "\n",
              "[5 rows x 8 columns]"
            ]
          },
          "metadata": {
            "tags": []
          },
          "execution_count": 12
        }
      ]
    },
    {
      "cell_type": "code",
      "metadata": {
        "colab": {
          "base_uri": "https://localhost:8080/",
          "height": 306
        },
        "id": "42MbhbQJmUQ5",
        "outputId": "8e9d428a-57be-4a53-81cb-8a542d720add"
      },
      "source": [
        "# Include numeric and non-numeric cloumns\r\n",
        "Suicide_rate.describe(include='all').T "
      ],
      "execution_count": 13,
      "outputs": [
        {
          "output_type": "execute_result",
          "data": {
            "text/html": [
              "<div>\n",
              "<style scoped>\n",
              "    .dataframe tbody tr th:only-of-type {\n",
              "        vertical-align: middle;\n",
              "    }\n",
              "\n",
              "    .dataframe tbody tr th {\n",
              "        vertical-align: top;\n",
              "    }\n",
              "\n",
              "    .dataframe thead th {\n",
              "        text-align: right;\n",
              "    }\n",
              "</style>\n",
              "<table border=\"1\" class=\"dataframe\">\n",
              "  <thead>\n",
              "    <tr style=\"text-align: right;\">\n",
              "      <th></th>\n",
              "      <th>count</th>\n",
              "      <th>unique</th>\n",
              "      <th>top</th>\n",
              "      <th>freq</th>\n",
              "      <th>mean</th>\n",
              "      <th>std</th>\n",
              "      <th>min</th>\n",
              "      <th>25%</th>\n",
              "      <th>50%</th>\n",
              "      <th>75%</th>\n",
              "      <th>max</th>\n",
              "    </tr>\n",
              "  </thead>\n",
              "  <tbody>\n",
              "    <tr>\n",
              "      <th>country</th>\n",
              "      <td>27820</td>\n",
              "      <td>101</td>\n",
              "      <td>Iceland</td>\n",
              "      <td>382</td>\n",
              "      <td>NaN</td>\n",
              "      <td>NaN</td>\n",
              "      <td>NaN</td>\n",
              "      <td>NaN</td>\n",
              "      <td>NaN</td>\n",
              "      <td>NaN</td>\n",
              "      <td>NaN</td>\n",
              "    </tr>\n",
              "    <tr>\n",
              "      <th>year</th>\n",
              "      <td>27820</td>\n",
              "      <td>NaN</td>\n",
              "      <td>NaN</td>\n",
              "      <td>NaN</td>\n",
              "      <td>2001.26</td>\n",
              "      <td>8.46906</td>\n",
              "      <td>1985</td>\n",
              "      <td>1995</td>\n",
              "      <td>2002</td>\n",
              "      <td>2008</td>\n",
              "      <td>2016</td>\n",
              "    </tr>\n",
              "    <tr>\n",
              "      <th>sex</th>\n",
              "      <td>27820</td>\n",
              "      <td>2</td>\n",
              "      <td>male</td>\n",
              "      <td>13910</td>\n",
              "      <td>NaN</td>\n",
              "      <td>NaN</td>\n",
              "      <td>NaN</td>\n",
              "      <td>NaN</td>\n",
              "      <td>NaN</td>\n",
              "      <td>NaN</td>\n",
              "      <td>NaN</td>\n",
              "    </tr>\n",
              "    <tr>\n",
              "      <th>age</th>\n",
              "      <td>27820</td>\n",
              "      <td>6</td>\n",
              "      <td>55-74 years</td>\n",
              "      <td>4642</td>\n",
              "      <td>NaN</td>\n",
              "      <td>NaN</td>\n",
              "      <td>NaN</td>\n",
              "      <td>NaN</td>\n",
              "      <td>NaN</td>\n",
              "      <td>NaN</td>\n",
              "      <td>NaN</td>\n",
              "    </tr>\n",
              "    <tr>\n",
              "      <th>suicides_no</th>\n",
              "      <td>27820</td>\n",
              "      <td>NaN</td>\n",
              "      <td>NaN</td>\n",
              "      <td>NaN</td>\n",
              "      <td>242.574</td>\n",
              "      <td>902.048</td>\n",
              "      <td>0</td>\n",
              "      <td>3</td>\n",
              "      <td>25</td>\n",
              "      <td>131</td>\n",
              "      <td>22338</td>\n",
              "    </tr>\n",
              "    <tr>\n",
              "      <th>population</th>\n",
              "      <td>27820</td>\n",
              "      <td>NaN</td>\n",
              "      <td>NaN</td>\n",
              "      <td>NaN</td>\n",
              "      <td>1.84479e+06</td>\n",
              "      <td>3.91178e+06</td>\n",
              "      <td>278</td>\n",
              "      <td>97498.5</td>\n",
              "      <td>430150</td>\n",
              "      <td>1.48614e+06</td>\n",
              "      <td>4.38052e+07</td>\n",
              "    </tr>\n",
              "    <tr>\n",
              "      <th>suicides/100k pop</th>\n",
              "      <td>27820</td>\n",
              "      <td>NaN</td>\n",
              "      <td>NaN</td>\n",
              "      <td>NaN</td>\n",
              "      <td>12.8161</td>\n",
              "      <td>18.9615</td>\n",
              "      <td>0</td>\n",
              "      <td>0.92</td>\n",
              "      <td>5.99</td>\n",
              "      <td>16.62</td>\n",
              "      <td>224.97</td>\n",
              "    </tr>\n",
              "    <tr>\n",
              "      <th>gdp_per_capita</th>\n",
              "      <td>27820</td>\n",
              "      <td>NaN</td>\n",
              "      <td>NaN</td>\n",
              "      <td>NaN</td>\n",
              "      <td>16866.5</td>\n",
              "      <td>18887.6</td>\n",
              "      <td>251</td>\n",
              "      <td>3447</td>\n",
              "      <td>9372</td>\n",
              "      <td>24874</td>\n",
              "      <td>126352</td>\n",
              "    </tr>\n",
              "    <tr>\n",
              "      <th>generation</th>\n",
              "      <td>27820</td>\n",
              "      <td>6</td>\n",
              "      <td>Generation X</td>\n",
              "      <td>6408</td>\n",
              "      <td>NaN</td>\n",
              "      <td>NaN</td>\n",
              "      <td>NaN</td>\n",
              "      <td>NaN</td>\n",
              "      <td>NaN</td>\n",
              "      <td>NaN</td>\n",
              "      <td>NaN</td>\n",
              "    </tr>\n",
              "  </tbody>\n",
              "</table>\n",
              "</div>"
            ],
            "text/plain": [
              "                   count unique           top  ...     50%          75%          max\n",
              "country            27820    101       Iceland  ...     NaN          NaN          NaN\n",
              "year               27820    NaN           NaN  ...    2002         2008         2016\n",
              "sex                27820      2          male  ...     NaN          NaN          NaN\n",
              "age                27820      6   55-74 years  ...     NaN          NaN          NaN\n",
              "suicides_no        27820    NaN           NaN  ...      25          131        22338\n",
              "population         27820    NaN           NaN  ...  430150  1.48614e+06  4.38052e+07\n",
              "suicides/100k pop  27820    NaN           NaN  ...    5.99        16.62       224.97\n",
              "gdp_per_capita     27820    NaN           NaN  ...    9372        24874       126352\n",
              "generation         27820      6  Generation X  ...     NaN          NaN          NaN\n",
              "\n",
              "[9 rows x 11 columns]"
            ]
          },
          "metadata": {
            "tags": []
          },
          "execution_count": 13
        }
      ]
    },
    {
      "cell_type": "code",
      "metadata": {
        "colab": {
          "base_uri": "https://localhost:8080/"
        },
        "id": "rlFmnFMHcOiO",
        "outputId": "bc8aff85-7eb8-4d7b-adfc-b6b008a7b55a"
      },
      "source": [
        "#we know Q3 AND Q1 AND IQR=Q3-Q1, any data point which is less than Q1-1.5IQR or Q3+1.5IQR are consider as outlier\n",
        "# Analysis on Suicide_per_Hundred_K_Pop feature\n",
        "Suicide_rate = Suicide_rate.rename(columns={'suicides/100k pop': 'Suicide_per_Hundred_K_Pop'})\n",
        "Q1=Suicide_rate.Suicide_per_Hundred_K_Pop.quantile(.25)\n",
        "Q3=Suicide_rate.Suicide_per_Hundred_K_Pop.quantile(.75)\n",
        "IQR=Q3-Q1\n",
        "lower_limit=Q1-(1.5*IQR)\n",
        "upper_limit=Q3+(1.5*IQR)\n",
        "print(\"Min Value\",Suicide_rate.Suicide_per_Hundred_K_Pop.min())\n",
        "print(\"Max Value \",Suicide_rate.Suicide_per_Hundred_K_Pop.max())\n",
        "print(\"Q1 \",Q1)\n",
        "print(\"Q3 \",Q3)\n",
        "print(\"IQR \",IQR)\n",
        "print('lower_limit',lower_limit)\n",
        "print('upper_limit',upper_limit)\n"
      ],
      "execution_count": 14,
      "outputs": [
        {
          "output_type": "stream",
          "text": [
            "Min Value 0.0\n",
            "Max Value  224.97\n",
            "Q1  0.92\n",
            "Q3  16.62\n",
            "IQR  15.700000000000001\n",
            "lower_limit -22.63\n",
            "upper_limit 40.17\n"
          ],
          "name": "stdout"
        }
      ]
    },
    {
      "cell_type": "code",
      "metadata": {
        "id": "7EKhL1VHcOiP"
      },
      "source": [
        "# Functions of to analyze data\n",
        "def findoutliers(column):\n",
        "    outliers=[]\n",
        "    Q1=column.quantile(.25)\n",
        "    Q3=column.quantile(.75)\n",
        "    IQR=Q3-Q1\n",
        "    lower_limit=Q1-(1.5*IQR)\n",
        "    upper_limit=Q3+(1.5*IQR)\n",
        "    for out1 in column:\n",
        "        if out1>upper_limit or out1 <lower_limit:\n",
        "            outliers.append(out1)\n",
        "            \n",
        "    return np.array(outliers)  \n",
        "\n",
        "def plotchart(col):\n",
        "    fix, (ax1,ax2) =plt.subplots(1,2,figsize=(7,5))\n",
        "    sn.boxplot(col, orient='v',ax=ax1)\n",
        "    ax1.set_ylabel=col.name\n",
        "    ax1.set_title('Box plot of {}'.format(col.name))\n",
        "    sn.distplot(col,ax=ax2) \n",
        "    ax2.set_title('Distribution plot of {}'.format(col.name))\n",
        "    \n",
        "def analysis_column(col):\n",
        "    print('count of outlier ', len(findoutliers(col)))\n",
        "    print('Mean ',format(col.mean()))\n",
        "    print('Median ',format(col.median()))\n",
        "    print('Missing values',format(col.isnull().sum()))\n",
        "    print('% of Missing values',format(round(100*(col.isnull().sum()/len(col)),2)))\n",
        "    \n",
        "    plotchart(col)"
      ],
      "execution_count": 15,
      "outputs": []
    },
    {
      "cell_type": "code",
      "metadata": {
        "id": "sKnn_9_DcOiP"
      },
      "source": [
        "# Find outliers within Suicide_rate\r\n",
        "Outliers_SR = findoutliers(Suicide_rate.Suicide_per_Hundred_K_Pop)"
      ],
      "execution_count": 16,
      "outputs": []
    },
    {
      "cell_type": "code",
      "metadata": {
        "colab": {
          "base_uri": "https://localhost:8080/"
        },
        "id": "RPIWiMe_cOiQ",
        "outputId": "95a47464-ad56-4bd2-9cdd-9e0dd9d17aa1"
      },
      "source": [
        "# Find number of rows that have outlier\r\n",
        "print(len(Outliers_SR))"
      ],
      "execution_count": 17,
      "outputs": [
        {
          "output_type": "stream",
          "text": [
            "2046\n"
          ],
          "name": "stdout"
        }
      ]
    },
    {
      "cell_type": "code",
      "metadata": {
        "id": "oU8hWVZicOiR",
        "colab": {
          "base_uri": "https://localhost:8080/",
          "height": 326
        },
        "outputId": "043b17e2-468b-4e56-bc91-4f0b0a94dcaf"
      },
      "source": [
        "# A histogram including all the countries\r\n",
        "hist_1 = Suicide_rate.Suicide_per_Hundred_K_Pop.hist()\r\n",
        "hist_1.set_title('Suicide per 100K pop for countries and states distribution \\n')\r\n",
        "hist_1.set_xlabel('Suicide per 100K pop')\r\n",
        "hist_1.set_ylabel('Number of countries and states')"
      ],
      "execution_count": 18,
      "outputs": [
        {
          "output_type": "execute_result",
          "data": {
            "text/plain": [
              "Text(0, 0.5, 'Number of countries and states')"
            ]
          },
          "metadata": {
            "tags": []
          },
          "execution_count": 18
        },
        {
          "output_type": "display_data",
          "data": {
            "image/png": "[encoded data removed]",
            "text/plain": [
              "<Figure size 432x288 with 1 Axes>"
            ]
          },
          "metadata": {
            "tags": [],
            "needs_background": "light"
          }
        }
      ]
    },
    {
      "cell_type": "code",
      "metadata": {
        "id": "m-2jJy_bAzaK"
      },
      "source": [
        "# New feature \"outlier\"\r\n",
        "if any( i in Outliers_SR for i in Suicide_rate['Suicide_per_Hundred_K_Pop'] ):\r\n",
        "  Suicide_rate['outlier'] = \"outlier\"\r\n",
        "else:\r\n",
        "  Suicide_rate['outlier'] = \"normal\""
      ],
      "execution_count": 19,
      "outputs": []
    },
    {
      "cell_type": "code",
      "metadata": {
        "colab": {
          "base_uri": "https://localhost:8080/"
        },
        "id": "nYQUebG0IoRK",
        "outputId": "ef0fc7f8-b371-4483-c29c-c81df704d7e2"
      },
      "source": [
        "# Check updated datafrae\r\n",
        "Suicide_rate.info()"
      ],
      "execution_count": 20,
      "outputs": [
        {
          "output_type": "stream",
          "text": [
            "<class 'pandas.core.frame.DataFrame'>\n",
            "Int64Index: 27820 entries, 0 to 27819\n",
            "Data columns (total 10 columns):\n",
            " #   Column                     Non-Null Count  Dtype  \n",
            "---  ------                     --------------  -----  \n",
            " 0   country                    27820 non-null  object \n",
            " 1   year                       27820 non-null  int64  \n",
            " 2   sex                        27820 non-null  object \n",
            " 3   age                        27820 non-null  object \n",
            " 4   suicides_no                27820 non-null  int64  \n",
            " 5   population                 27820 non-null  int64  \n",
            " 6   Suicide_per_Hundred_K_Pop  27820 non-null  float64\n",
            " 7   gdp_per_capita             27820 non-null  int64  \n",
            " 8   generation                 27820 non-null  object \n",
            " 9   outlier                    27820 non-null  object \n",
            "dtypes: float64(1), int64(4), object(5)\n",
            "memory usage: 2.3+ MB\n"
          ],
          "name": "stdout"
        }
      ]
    },
    {
      "cell_type": "code",
      "metadata": {
        "colab": {
          "base_uri": "https://localhost:8080/",
          "height": 191
        },
        "id": "kSx-mw5wgmt6",
        "outputId": "d335c6e9-0e4b-457b-d112-32730efde971"
      },
      "source": [
        "# Check if the new feature are in the dataframe\r\n",
        "Suicide_rate.head()"
      ],
      "execution_count": 21,
      "outputs": [
        {
          "output_type": "execute_result",
          "data": {
            "text/html": [
              "<div>\n",
              "<style scoped>\n",
              "    .dataframe tbody tr th:only-of-type {\n",
              "        vertical-align: middle;\n",
              "    }\n",
              "\n",
              "    .dataframe tbody tr th {\n",
              "        vertical-align: top;\n",
              "    }\n",
              "\n",
              "    .dataframe thead th {\n",
              "        text-align: right;\n",
              "    }\n",
              "</style>\n",
              "<table border=\"1\" class=\"dataframe\">\n",
              "  <thead>\n",
              "    <tr style=\"text-align: right;\">\n",
              "      <th></th>\n",
              "      <th>country</th>\n",
              "      <th>year</th>\n",
              "      <th>sex</th>\n",
              "      <th>age</th>\n",
              "      <th>suicides_no</th>\n",
              "      <th>population</th>\n",
              "      <th>Suicide_per_Hundred_K_Pop</th>\n",
              "      <th>gdp_per_capita</th>\n",
              "      <th>generation</th>\n",
              "      <th>outlier</th>\n",
              "    </tr>\n",
              "  </thead>\n",
              "  <tbody>\n",
              "    <tr>\n",
              "      <th>0</th>\n",
              "      <td>Albania</td>\n",
              "      <td>1987</td>\n",
              "      <td>male</td>\n",
              "      <td>15-24 years</td>\n",
              "      <td>21</td>\n",
              "      <td>312900</td>\n",
              "      <td>6.71</td>\n",
              "      <td>796</td>\n",
              "      <td>Generation X</td>\n",
              "      <td>outlier</td>\n",
              "    </tr>\n",
              "    <tr>\n",
              "      <th>1</th>\n",
              "      <td>Albania</td>\n",
              "      <td>1987</td>\n",
              "      <td>male</td>\n",
              "      <td>35-54 years</td>\n",
              "      <td>16</td>\n",
              "      <td>308000</td>\n",
              "      <td>5.19</td>\n",
              "      <td>796</td>\n",
              "      <td>Silent</td>\n",
              "      <td>outlier</td>\n",
              "    </tr>\n",
              "    <tr>\n",
              "      <th>2</th>\n",
              "      <td>Albania</td>\n",
              "      <td>1987</td>\n",
              "      <td>female</td>\n",
              "      <td>15-24 years</td>\n",
              "      <td>14</td>\n",
              "      <td>289700</td>\n",
              "      <td>4.83</td>\n",
              "      <td>796</td>\n",
              "      <td>Generation X</td>\n",
              "      <td>outlier</td>\n",
              "    </tr>\n",
              "    <tr>\n",
              "      <th>3</th>\n",
              "      <td>Albania</td>\n",
              "      <td>1987</td>\n",
              "      <td>male</td>\n",
              "      <td>75+ years</td>\n",
              "      <td>1</td>\n",
              "      <td>21800</td>\n",
              "      <td>4.59</td>\n",
              "      <td>796</td>\n",
              "      <td>G.I. Generation</td>\n",
              "      <td>outlier</td>\n",
              "    </tr>\n",
              "    <tr>\n",
              "      <th>4</th>\n",
              "      <td>Albania</td>\n",
              "      <td>1987</td>\n",
              "      <td>male</td>\n",
              "      <td>25-34 years</td>\n",
              "      <td>9</td>\n",
              "      <td>274300</td>\n",
              "      <td>3.28</td>\n",
              "      <td>796</td>\n",
              "      <td>Boomers</td>\n",
              "      <td>outlier</td>\n",
              "    </tr>\n",
              "  </tbody>\n",
              "</table>\n",
              "</div>"
            ],
            "text/plain": [
              "   country  year     sex  ... gdp_per_capita       generation  outlier\n",
              "0  Albania  1987    male  ...            796     Generation X  outlier\n",
              "1  Albania  1987    male  ...            796           Silent  outlier\n",
              "2  Albania  1987  female  ...            796     Generation X  outlier\n",
              "3  Albania  1987    male  ...            796  G.I. Generation  outlier\n",
              "4  Albania  1987    male  ...            796          Boomers  outlier\n",
              "\n",
              "[5 rows x 10 columns]"
            ]
          },
          "metadata": {
            "tags": []
          },
          "execution_count": 21
        }
      ]
    },
    {
      "cell_type": "code",
      "metadata": {
        "colab": {
          "base_uri": "https://localhost:8080/",
          "height": 326
        },
        "id": "_4QQslzQxnVe",
        "outputId": "d19c806e-b57d-4277-f953-04f0f8e0578a"
      },
      "source": [
        "# A histogram excluding outliers\r\n",
        "Suicide_rate_2 = Suicide_rate.Suicide_per_Hundred_K_Pop\r\n",
        "for i in Suicide_rate_2:\r\n",
        "  if any(Suicide_rate[\"outlier\"]) == \"outlier\":\r\n",
        "    Suicide_rate_2 = Suicide_rate_2.drop[i]\r\n",
        "  else:\r\n",
        "    Suicide_rate_2 = Suicide_rate_2\r\n",
        "\r\n",
        "hist_2 = Suicide_rate_2.hist(color = \"pink\", lw=0, range=[0, 50])\r\n",
        "hist_2.set_title('Suicide per 100K pop for countries and states distribution without outlier \\n')\r\n",
        "hist_2.set_xlabel('Suicide per 100K pop')\r\n",
        "hist_2.set_ylabel('Number of countries and states')"
      ],
      "execution_count": 22,
      "outputs": [
        {
          "output_type": "execute_result",
          "data": {
            "text/plain": [
              "Text(0, 0.5, 'Number of countries and states')"
            ]
          },
          "metadata": {
            "tags": []
          },
          "execution_count": 22
        },
        {
          "output_type": "display_data",
          "data": {
            "image/png": "[encoded data removed]",
            "text/plain": [
              "<Figure size 432x288 with 1 Axes>"
            ]
          },
          "metadata": {
            "tags": [],
            "needs_background": "light"
          }
        }
      ]
    },
    {
      "cell_type": "code",
      "metadata": {
        "id": "rqLs3Qj9cOiS",
        "colab": {
          "base_uri": "https://localhost:8080/",
          "height": 368
        },
        "outputId": "5aa12863-95fe-47a5-9ac2-63cc7dbed8aa"
      },
      "source": [
        "#boxplot and distribution on suicide rate and years\n",
        "\n",
        "fig, axes = plt.subplots(nrows=2, ncols=2,figsize=(7,5))\n",
        "axes[0,0].set_title('GDP per capita boxplot')\n",
        "axes[0,1].set_title('GDP per capita distribution')\n",
        "axes[1,0].set_title('Suicide per year boxplot')\n",
        "axes[1,1].set_title('Suicide per year distribution')\n",
        "\n",
        "sn.boxplot(Suicide_rate.gdp_per_capita, orient='v',ax=axes[0,0])\n",
        "sn.distplot(Suicide_rate.gdp_per_capita,ax=axes[0,1]) \n",
        "sn.boxplot(Suicide_rate.year, orient='v',ax=axes[1,0])\n",
        "sn.distplot(Suicide_rate.year,ax=axes[1,1]) \n",
        "\n",
        "fig.tight_layout();"
      ],
      "execution_count": 23,
      "outputs": [
        {
          "output_type": "display_data",
          "data": {
            "image/png": "[encoded data removed]",
            "text/plain": [
              "<Figure size 504x360 with 4 Axes>"
            ]
          },
          "metadata": {
            "tags": [],
            "needs_background": "light"
          }
        }
      ]
    },
    {
      "cell_type": "markdown",
      "metadata": {
        "id": "rD5HqnwWcOiS"
      },
      "source": [
        "## Categorical Variable Analysis"
      ]
    },
    {
      "cell_type": "code",
      "metadata": {
        "colab": {
          "base_uri": "https://localhost:8080/"
        },
        "id": "86W_qsagcOiT",
        "outputId": "26f0c799-80ca-43cc-b846-b29f82585c97"
      },
      "source": [
        "# Number of the unique values for each country\r\n",
        "Suicide_rate.country.value_counts()"
      ],
      "execution_count": 24,
      "outputs": [
        {
          "output_type": "execute_result",
          "data": {
            "text/plain": [
              "Iceland                   382\n",
              "Netherlands               382\n",
              "Mauritius                 382\n",
              "Austria                   382\n",
              "Luxembourg                372\n",
              "                         ... \n",
              "Bosnia and Herzegovina     24\n",
              "Dominica                   12\n",
              "Macau                      12\n",
              "Cabo Verde                 12\n",
              "Mongolia                   10\n",
              "Name: country, Length: 101, dtype: int64"
            ]
          },
          "metadata": {
            "tags": []
          },
          "execution_count": 24
        }
      ]
    },
    {
      "cell_type": "code",
      "metadata": {
        "colab": {
          "base_uri": "https://localhost:8080/"
        },
        "id": "AnSU3RrJcOiT",
        "outputId": "56917dbe-fc94-4520-9ab7-868fc4e1f95a"
      },
      "source": [
        "# in percentage\n",
        "Suicide_rate.country.value_counts(normalize=True)"
      ],
      "execution_count": 25,
      "outputs": [
        {
          "output_type": "execute_result",
          "data": {
            "text/plain": [
              "Iceland                   0.013731\n",
              "Netherlands               0.013731\n",
              "Mauritius                 0.013731\n",
              "Austria                   0.013731\n",
              "Luxembourg                0.013372\n",
              "                            ...   \n",
              "Bosnia and Herzegovina    0.000863\n",
              "Dominica                  0.000431\n",
              "Macau                     0.000431\n",
              "Cabo Verde                0.000431\n",
              "Mongolia                  0.000359\n",
              "Name: country, Length: 101, dtype: float64"
            ]
          },
          "metadata": {
            "tags": []
          },
          "execution_count": 25
        }
      ]
    },
    {
      "cell_type": "code",
      "metadata": {
        "colab": {
          "base_uri": "https://localhost:8080/",
          "height": 167
        },
        "id": "UetaV7DicOiT",
        "outputId": "229f1332-4247-474e-bab0-0cc6086afaf0"
      },
      "source": [
        "# Number of unique values collected per country in factorplot\r\n",
        "pl = sn.factorplot('country',data=Suicide_rate, aspect=15, kind='count')\r\n",
        "pl.set_xticklabels(step=1)"
      ],
      "execution_count": 26,
      "outputs": [
        {
          "output_type": "execute_result",
          "data": {
            "text/plain": [
              "<seaborn.axisgrid.FacetGrid at 0x7f266bec5090>"
            ]
          },
          "metadata": {
            "tags": []
          },
          "execution_count": 26
        },
        {
          "output_type": "display_data",
          "data": {
            "image/png": "[encoded data removed]",
            "text/plain": [
              "<Figure size 5400x360 with 1 Axes>"
            ]
          },
          "metadata": {
            "tags": [],
            "needs_background": "light"
          }
        }
      ]
    },
    {
      "cell_type": "code",
      "metadata": {
        "colab": {
          "base_uri": "https://localhost:8080/",
          "height": 295
        },
        "id": "XdAXDPg7hC4F",
        "outputId": "96d5b1e7-9b8e-4c32-ef2e-55263405defd"
      },
      "source": [
        "# Mean of suicide rate per country\r\n",
        "sn.barplot(x=Suicide_rate.country,y=Suicide_rate.Suicide_per_Hundred_K_Pop)"
      ],
      "execution_count": 27,
      "outputs": [
        {
          "output_type": "execute_result",
          "data": {
            "text/plain": [
              "<matplotlib.axes._subplots.AxesSubplot at 0x7f2662c3b350>"
            ]
          },
          "metadata": {
            "tags": []
          },
          "execution_count": 27
        },
        {
          "output_type": "display_data",
          "data": {
            "image/png": "[encoded data removed]",
            "text/plain": [
              "<Figure size 432x288 with 1 Axes>"
            ]
          },
          "metadata": {
            "tags": [],
            "needs_background": "light"
          }
        }
      ]
    },
    {
      "cell_type": "markdown",
      "metadata": {
        "id": "VQZpbrKhcOiV"
      },
      "source": [
        "### Bivariate Analysis"
      ]
    },
    {
      "cell_type": "code",
      "metadata": {
        "colab": {
          "base_uri": "https://localhost:8080/",
          "height": 866
        },
        "id": "ml5N3E51cOiV",
        "outputId": "4113460b-0086-4510-c564-682063674d83"
      },
      "source": [
        "# Checking the correlation between differnt columns \n",
        "corr = Suicide_rate.corr(method='spearman')\n",
        "plt.figure(figsize=(15,15))\n",
        "sn.heatmap(corr,vmax=.8,linewidths=0.01,square=True,annot=True,cmap='RdBu',linecolor='black')"
      ],
      "execution_count": 28,
      "outputs": [
        {
          "output_type": "execute_result",
          "data": {
            "text/plain": [
              "<matplotlib.axes._subplots.AxesSubplot at 0x7f2662b88150>"
            ]
          },
          "metadata": {
            "tags": []
          },
          "execution_count": 28
        },
        {
          "output_type": "display_data",
          "data": {
            "image/png": "[encoded data removed]",
            "text/plain": [
              "<Figure size 1080x1080 with 2 Axes>"
            ]
          },
          "metadata": {
            "tags": [],
            "needs_background": "light"
          }
        }
      ]
    },
    {
      "cell_type": "code",
      "metadata": {
        "colab": {
          "base_uri": "https://localhost:8080/",
          "height": 296
        },
        "id": "yhyTnG-bcOiW",
        "outputId": "9bb3cb80-45de-4d7f-bbbc-6fef182b9a85"
      },
      "source": [
        "# scatter plot of Suicide per 100k and gdp per capita\n",
        "plt.plot('Suicide_per_Hundred_K_Pop', 'gdp_per_capita', data=Suicide_rate, linestyle='', marker='o', markersize=0.5)\n",
        "plt.xlabel('Suicide_per_Hundred_K_Pop')\n",
        "plt.ylabel('gdp_per_capita')\n",
        "plt.title('Suicide rate vs.GDP per capita', loc='left')\n",
        "plt.show()"
      ],
      "execution_count": 29,
      "outputs": [
        {
          "output_type": "display_data",
          "data": {
            "image/png": "[encoded data removed]",
            "text/plain": [
              "<Figure size 432x288 with 1 Axes>"
            ]
          },
          "metadata": {
            "tags": [],
            "needs_background": "light"
          }
        }
      ]
    },
    {
      "cell_type": "code",
      "metadata": {
        "colab": {
          "base_uri": "https://localhost:8080/",
          "height": 296
        },
        "id": "3eRLofhOcOiW",
        "outputId": "21450cd1-b1b9-467f-d704-27fb92417c27"
      },
      "source": [
        "# scatter plot of Suicide per 100k and gdp per capita\r\n",
        "plt.plot('Suicide_per_Hundred_K_Pop', 'population', data=Suicide_rate, linestyle='', marker='o', markersize=0.5, color = 'r')\r\n",
        "plt.xlabel('Suicide_per_Hundred_K_Pop')\r\n",
        "plt.ylabel('population')\r\n",
        "plt.title('Suicide rate vs.population', loc='left')\r\n",
        "plt.show()"
      ],
      "execution_count": 46,
      "outputs": [
        {
          "output_type": "display_data",
          "data": {
            "image/png": "[encoded data removed]",
            "text/plain": [
              "<Figure size 432x288 with 1 Axes>"
            ]
          },
          "metadata": {
            "tags": [],
            "needs_background": "light"
          }
        }
      ]
    },
    {
      "cell_type": "code",
      "metadata": {
        "colab": {
          "base_uri": "https://localhost:8080/",
          "height": 296
        },
        "id": "9lU38y-JcOiW",
        "outputId": "469aadac-f839-4b0c-823a-310345be91ab"
      },
      "source": [
        "# p-value mean fo Suicide rate\n",
        "# find correlation between GDP and Suicide rate\n",
        "from scipy.stats import spearmanr\n",
        "sn.regplot(x=Suicide_rate.gdp_per_capita, y=Suicide_rate.Suicide_per_Hundred_K_Pop, color='g')\n",
        "print(spearmanr(Suicide_rate.gdp_per_capita,Suicide_rate.Suicide_per_Hundred_K_Pop))"
      ],
      "execution_count": 31,
      "outputs": [
        {
          "output_type": "stream",
          "text": [
            "SpearmanrResult(correlation=0.07306331576449537, pvalue=3.02415181882464e-34)\n"
          ],
          "name": "stdout"
        },
        {
          "output_type": "display_data",
          "data": {
            "image/png": "[encoded data removed]",
            "text/plain": [
              "<Figure size 432x288 with 1 Axes>"
            ]
          },
          "metadata": {
            "tags": [],
            "needs_background": "light"
          }
        }
      ]
    },
    {
      "cell_type": "code",
      "metadata": {
        "colab": {
          "base_uri": "https://localhost:8080/",
          "height": 295
        },
        "id": "8OyGzr0QcOiX",
        "outputId": "038a7e68-d68d-408d-ed9d-f20d477d059b"
      },
      "source": [
        "# bivariate analysis for independent variable being a category and dependent variable being a number\n",
        "# mean value for each condition value\n",
        "sn.barplot(x=Suicide_rate.sex,y=Suicide_rate.Suicide_per_Hundred_K_Pop)"
      ],
      "execution_count": 32,
      "outputs": [
        {
          "output_type": "execute_result",
          "data": {
            "text/plain": [
              "<matplotlib.axes._subplots.AxesSubplot at 0x7f2662616c90>"
            ]
          },
          "metadata": {
            "tags": []
          },
          "execution_count": 32
        },
        {
          "output_type": "display_data",
          "data": {
            "image/png": "[encoded data removed]",
            "text/plain": [
              "<Figure size 432x288 with 1 Axes>"
            ]
          },
          "metadata": {
            "tags": [],
            "needs_background": "light"
          }
        }
      ]
    },
    {
      "cell_type": "code",
      "metadata": {
        "colab": {
          "base_uri": "https://localhost:8080/",
          "height": 295
        },
        "id": "n-k_UHchcOiY",
        "outputId": "bf334a5d-2568-4b04-95ee-afaa522dcbc6"
      },
      "source": [
        "# bivariate analysis for independent variable being a category and dependent variable being a number\n",
        "# mean value for each condition value\n",
        "sn.barplot(x=Suicide_rate.generation,y=Suicide_rate.Suicide_per_Hundred_K_Pop)"
      ],
      "execution_count": 33,
      "outputs": [
        {
          "output_type": "execute_result",
          "data": {
            "text/plain": [
              "<matplotlib.axes._subplots.AxesSubplot at 0x7f267d416090>"
            ]
          },
          "metadata": {
            "tags": []
          },
          "execution_count": 33
        },
        {
          "output_type": "display_data",
          "data": {
            "image/png": "[encoded data removed]",
            "text/plain": [
              "<Figure size 432x288 with 1 Axes>"
            ]
          },
          "metadata": {
            "tags": [],
            "needs_background": "light"
          }
        }
      ]
    },
    {
      "cell_type": "code",
      "metadata": {
        "colab": {
          "base_uri": "https://localhost:8080/"
        },
        "id": "aNq6e3oqcOiY",
        "outputId": "82ee148e-c2d6-440b-f22f-f130788b6832"
      },
      "source": [
        "\n",
        "print(\"Number of unique value\",Suicide_rate.year.nunique())\n",
        "print(\"Max  value\",Suicide_rate.country.max())\n",
        "print(\"Min  value\",Suicide_rate.country.min())"
      ],
      "execution_count": 34,
      "outputs": [
        {
          "output_type": "stream",
          "text": [
            "Number of unique value 32\n",
            "Max  value Uzbekistan\n",
            "Min  value Albania\n"
          ],
          "name": "stdout"
        }
      ]
    },
    {
      "cell_type": "code",
      "metadata": {
        "colab": {
          "base_uri": "https://localhost:8080/",
          "height": 415
        },
        "id": "0SxonBh3ZGrN",
        "outputId": "b1631305-9c38-4656-b6f6-82a925ca772e"
      },
      "source": [
        "# Tree map for the distribution of generation in this data\r\n",
        "!pip install squarify\r\n",
        "import squarify    # pip install squarify (algorithm for treemap)\r\n",
        "a = Suicide_rate.groupby('generation')[['Suicide_per_Hundred_K_Pop']].mean().index.get_level_values(0).tolist()\r\n",
        "d = Suicide_rate.groupby('generation')['Suicide_per_Hundred_K_Pop'].mean()\r\n",
        "print(d)\r\n",
        "color=['r','g','b','grey','purple','orange']\r\n",
        "squarify.plot(sizes=d, label=a, color=color, alpha=.8)\r\n",
        "\r\n",
        "plt.show()"
      ],
      "execution_count": 45,
      "outputs": [
        {
          "output_type": "stream",
          "text": [
            "Requirement already satisfied: squarify in /usr/local/lib/python3.7/dist-packages (0.4.3)\n",
            "generation\n",
            "Boomers            14.742094\n",
            "G.I. Generation    23.946378\n",
            "Generation X       10.556874\n",
            "Generation Z        0.642299\n",
            "Millenials          5.383597\n",
            "Silent             18.418848\n",
            "Name: Suicide_per_Hundred_K_Pop, dtype: float64\n"
          ],
          "name": "stdout"
        },
        {
          "output_type": "display_data",
          "data": {
            "image/png": "[encoded data removed]",
            "text/plain": [
              "<Figure size 432x288 with 1 Axes>"
            ]
          },
          "metadata": {
            "tags": [],
            "needs_background": "light"
          }
        }
      ]
    }
  ]
}